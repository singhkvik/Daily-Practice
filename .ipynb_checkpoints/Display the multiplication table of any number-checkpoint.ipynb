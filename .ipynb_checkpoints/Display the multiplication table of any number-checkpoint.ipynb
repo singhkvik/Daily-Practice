{
 "cells": [
  {
   "cell_type": "markdown",
   "id": "c6b00b5a",
   "metadata": {},
   "source": [
    "### Write a program that will ask the user any number, then print the multiplication table of that number"
   ]
  },
  {
   "cell_type": "code",
   "execution_count": 1,
   "id": "d0f01cf1",
   "metadata": {},
   "outputs": [
    {
     "name": "stdout",
     "output_type": "stream",
     "text": [
      "What is your number for multiplication table: 11\n",
      "11 * 1 = 11\n",
      "11 * 2 = 22\n",
      "11 * 3 = 33\n",
      "11 * 4 = 44\n",
      "11 * 5 = 55\n",
      "11 * 6 = 66\n",
      "11 * 7 = 77\n",
      "11 * 8 = 88\n",
      "11 * 9 = 99\n",
      "11 * 10 = 110\n"
     ]
    }
   ],
   "source": [
    "user_num = int(input(\"What is your number for multiplication table: \"))\n",
    "\n",
    "for i in range(1,11):\n",
    "    mult = user_num * i\n",
    "    print(f\"{user_num} * {i} = {mult}\")"
   ]
  },
  {
   "cell_type": "code",
   "execution_count": null,
   "id": "48ca0f98",
   "metadata": {},
   "outputs": [],
   "source": []
  }
 ],
 "metadata": {
  "kernelspec": {
   "display_name": "Python 3",
   "language": "python",
   "name": "python3"
  },
  "language_info": {
   "codemirror_mode": {
    "name": "ipython",
    "version": 3
   },
   "file_extension": ".py",
   "mimetype": "text/x-python",
   "name": "python",
   "nbconvert_exporter": "python",
   "pygments_lexer": "ipython3",
   "version": "3.8.8"
  }
 },
 "nbformat": 4,
 "nbformat_minor": 5
}
