{
 "cells": [
  {
   "cell_type": "code",
   "execution_count": 1,
   "id": "b79cc8ec",
   "metadata": {},
   "outputs": [],
   "source": [
    "from datetime import datetime, timedelta"
   ]
  },
  {
   "cell_type": "code",
   "execution_count": 2,
   "id": "2af4eac2",
   "metadata": {},
   "outputs": [
    {
     "name": "stdout",
     "output_type": "stream",
     "text": [
      "Today is: 2022-03-31 11:21:23.124302\n",
      "365 days ago date was:: 2021-03-31 11:21:23.124302\n"
     ]
    }
   ],
   "source": [
    "date_today = datetime.now()\n",
    "date_365 = date_today - timedelta(days=365)\n",
    "\n",
    "print(f\"Today is: {date_today}\")\n",
    "print(f\"365 days ago date was:: {date_365}\")"
   ]
  },
  {
   "cell_type": "code",
   "execution_count": null,
   "id": "0061edf8",
   "metadata": {},
   "outputs": [],
   "source": []
  }
 ],
 "metadata": {
  "kernelspec": {
   "display_name": "Python 3",
   "language": "python",
   "name": "python3"
  },
  "language_info": {
   "codemirror_mode": {
    "name": "ipython",
    "version": 3
   },
   "file_extension": ".py",
   "mimetype": "text/x-python",
   "name": "python",
   "nbconvert_exporter": "python",
   "pygments_lexer": "ipython3",
   "version": "3.8.8"
  }
 },
 "nbformat": 4,
 "nbformat_minor": 5
}
