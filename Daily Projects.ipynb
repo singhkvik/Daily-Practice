{
 "cells": [
  {
   "cell_type": "markdown",
   "id": "f81db552",
   "metadata": {},
   "source": [
    "### Write a program that will ask the user any number, then print the multiplication table of that number"
   ]
  },
  {
   "cell_type": "code",
   "execution_count": 1,
   "id": "1ccd88bd",
   "metadata": {},
   "outputs": [
    {
     "name": "stdout",
     "output_type": "stream",
     "text": [
      "What is your number for multiplication table: 10\n",
      "10 * 1 = 10\n",
      "10 * 2 = 20\n",
      "10 * 3 = 30\n",
      "10 * 4 = 40\n",
      "10 * 5 = 50\n",
      "10 * 6 = 60\n",
      "10 * 7 = 70\n",
      "10 * 8 = 80\n",
      "10 * 9 = 90\n",
      "10 * 10 = 100\n"
     ]
    }
   ],
   "source": [
    "user_num = int(input(\"What is your number for multiplication table: \"))\n",
    "\n",
    "for i in range(1,11):\n",
    "    mult = user_num * i\n",
    "    print(f\"{user_num} * {i} = {mult}\")"
   ]
  },
  {
   "cell_type": "markdown",
   "id": "e3ece3b8",
   "metadata": {},
   "source": [
    "### You have a list of the names of all the planets in your solar system. Write a program that will print planet names with a length greater than 5."
   ]
  },
  {
   "cell_type": "code",
   "execution_count": 2,
   "id": "2f52580a",
   "metadata": {},
   "outputs": [
    {
     "name": "stdout",
     "output_type": "stream",
     "text": [
      "Mercury\n",
      "Jupiter\n",
      "Saturn\n",
      "Uranus\n",
      "Neptune\n"
     ]
    }
   ],
   "source": [
    "planets = [\"Mercury\", \"Venus\", \"Earth\", \"Mars\", \"Jupiter\", \"Saturn\", \"Uranus\", \"Neptune\"]\n",
    "\n",
    "for planet in planets:\n",
    "    if len(planet) > 5:\n",
    "        print(planet)     "
   ]
  },
  {
   "cell_type": "markdown",
   "id": "f377de8d",
   "metadata": {},
   "source": [
    "### You have three number, (a = 1000, b = 240, c = 40), you may assume another number. Now, write a program to find which is greatest number."
   ]
  },
  {
   "cell_type": "code",
   "execution_count": 3,
   "id": "6f549b6e",
   "metadata": {},
   "outputs": [
    {
     "name": "stdout",
     "output_type": "stream",
     "text": [
      "\"b\" having value 2000 is the greatest number.\n"
     ]
    }
   ],
   "source": [
    "a = 1000\n",
    "b = 2000\n",
    "c = 40\n",
    "\n",
    "if a>b and a>c:\n",
    "    print(f'\"a\" having value {a} is the greatest number.')\n",
    "elif b>a and b>c:\n",
    "    print(f'\"b\" having value {b} is the greatest number.')\n",
    "elif c>a and c>b:\n",
    "    print(f'\"c\" having value {c} is the greatest number.')"
   ]
  },
  {
   "cell_type": "markdown",
   "id": "474befb0",
   "metadata": {},
   "source": [
    "### Write a program that will print the 15 randomly generated numbers from 1 digit to 3 digits. Also, print which number is even and which is odd."
   ]
  },
  {
   "cell_type": "code",
   "execution_count": 4,
   "id": "a1ae7252",
   "metadata": {},
   "outputs": [],
   "source": [
    "# Import required libraries\n",
    "\n",
    "import random"
   ]
  },
  {
   "cell_type": "code",
   "execution_count": 5,
   "id": "ecb57f98",
   "metadata": {},
   "outputs": [
    {
     "name": "stdout",
     "output_type": "stream",
     "text": [
      "[457, 389, 913, 184, 479, 583, 220, 692, 132, 32, 174, 848, 872, 966, 763]\n"
     ]
    }
   ],
   "source": [
    "number_list = []\n",
    "\n",
    "for i in range(0,15):\n",
    "    number_list.append(random.randint(1,999))\n",
    "    \n",
    "print(number_list)"
   ]
  },
  {
   "cell_type": "code",
   "execution_count": 6,
   "id": "9f8d46df",
   "metadata": {},
   "outputs": [
    {
     "name": "stdout",
     "output_type": "stream",
     "text": [
      "457 is an odd number\n",
      "389 is an odd number\n",
      "913 is an odd number\n",
      "184 is an even number\n",
      "479 is an odd number\n",
      "583 is an odd number\n",
      "220 is an even number\n",
      "692 is an even number\n",
      "132 is an even number\n",
      "32 is an even number\n",
      "174 is an even number\n",
      "848 is an even number\n",
      "872 is an even number\n",
      "966 is an even number\n",
      "763 is an odd number\n"
     ]
    }
   ],
   "source": [
    "for num in number_list:\n",
    "    if num % 2 == 0:\n",
    "        print(f\"{num} is an even number\")\n",
    "    else:\n",
    "        print(f\"{num} is an odd number\")"
   ]
  },
  {
   "cell_type": "markdown",
   "id": "882010c7",
   "metadata": {},
   "source": [
    "### Print today’s date and 365 days ago date"
   ]
  },
  {
   "cell_type": "code",
   "execution_count": 7,
   "id": "67ea66d0",
   "metadata": {},
   "outputs": [
    {
     "name": "stdout",
     "output_type": "stream",
     "text": [
      "Today is: 2022-04-05 21:29:42.223963\n",
      "365 days ago date was:: 2021-04-05 21:29:42.223963\n"
     ]
    }
   ],
   "source": [
    "from datetime import datetime, timedelta\n",
    "\n",
    "date_today = datetime.now()\n",
    "date_365 = date_today - timedelta(days=365)\n",
    "\n",
    "print(f\"Today is: {date_today}\")\n",
    "print(f\"365 days ago date was:: {date_365}\")"
   ]
  },
  {
   "cell_type": "markdown",
   "id": "8d05d049",
   "metadata": {},
   "source": [
    "### Program that will print price including tax.\n",
    "\n",
    "People from some states of America have come to see the show going on in London, and for this, they have to pay $ 12 and tax separately.\n",
    "\n",
    "Now, write a program that will ask the users the name of their state. If they’re from “New York, Los Angeles, Chicago, Houston, Phoenix, San Antonio, San Diego, Dallas, San Jose, Austin” then include the tax of $1.21 in their price and print it.\n",
    "\n",
    "And if they are from “Fort Worth, Columbus, San Francisco, Denver, Washington, El Paso, Las Vegas, Detroit, Louisville, Albuquerque” then include the tax of $0.41 in their price and print it.\n",
    "\n",
    "And if they are from any other states then include the tax of $0.39 in their price and print it."
   ]
  },
  {
   "cell_type": "code",
   "execution_count": 8,
   "id": "728a6a6f",
   "metadata": {},
   "outputs": [
    {
     "name": "stdout",
     "output_type": "stream",
     "text": [
      "['new york', 'los angeles', 'chicago', 'houston', 'phoenix', 'san antonio', 'san diego', 'dallas', 'san jose', 'austin']\n"
     ]
    }
   ],
   "source": [
    "states = [\"New York\", \"Los Angeles\", \"Chicago\", \"Houston\", \"Phoenix\", \"San Antonio\", \"San Diego\", \"Dallas\", \n",
    "          \"San Jose\", \"Austin\"]\n",
    "\n",
    "states_lower = []\n",
    "for state in states:\n",
    "    states_lower.append(state.lower())\n",
    "print(states_lower)  "
   ]
  },
  {
   "cell_type": "code",
   "execution_count": 9,
   "id": "0e8ccb19",
   "metadata": {},
   "outputs": [
    {
     "name": "stdout",
     "output_type": "stream",
     "text": [
      "Please enter your state name: chicago\n",
      "Including tax 1.21 dollar, you will have to pay 13.21 dollar.\n"
     ]
    }
   ],
   "source": [
    "user_state = input(\"Please enter your state name: \").lower()\n",
    "ticket_price = 12\n",
    "tax_states = 1.21\n",
    "tax_others = 0.39\n",
    "final_price = 0\n",
    "\n",
    "if user_state in states_lower:\n",
    "    final_price = ticket_price + tax_states\n",
    "    print(f\"Including tax {tax_states} dollar, you will have to pay {final_price} dollar.\")\n",
    "else:\n",
    "    final_price = ticket_price + 0.39\n",
    "    print(f\"Including tax {tax_others} dollar, you will have to pay {final_price} dollar.\")"
   ]
  },
  {
   "cell_type": "markdown",
   "id": "708570a9",
   "metadata": {},
   "source": [
    "### Remove numbers greater than 65 from a list while iterating\n",
    "\n",
    "Write a program to remove numbers greater than 65 out of 30 randomly generated numbers between 18 and 82 from a list while iterating."
   ]
  },
  {
   "cell_type": "code",
   "execution_count": 10,
   "id": "16a61c66",
   "metadata": {},
   "outputs": [
    {
     "name": "stdout",
     "output_type": "stream",
     "text": [
      "30 Random Numbers are: [42, 63, 19, 67, 74, 43, 79, 29, 35, 54, 30, 38, 78, 56, 82, 24, 45, 33, 71, 39, 49, 27, 71, 73, 52, 57, 29, 73, 45, 56]\n",
      "30\n"
     ]
    }
   ],
   "source": [
    "import random\n",
    "\n",
    "nums = []\n",
    "for i in range(30):\n",
    "    num = random.randint(18,82)\n",
    "    nums.append(num)\n",
    "    \n",
    "print(f\"30 Random Numbers are: {nums}\")\n",
    "print(len(nums))"
   ]
  },
  {
   "cell_type": "code",
   "execution_count": 11,
   "id": "26605ff4",
   "metadata": {},
   "outputs": [
    {
     "name": "stdout",
     "output_type": "stream",
     "text": [
      "Numbers less than 65 are : [42, 63, 19, 74, 43, 29, 35, 54, 30, 38, 56, 24, 45, 33, 39, 49, 27, 52, 57, 29, 73, 45, 56]\n",
      "23\n"
     ]
    }
   ],
   "source": [
    "for num in nums:\n",
    "    if num > 65:\n",
    "        nums.remove(num)\n",
    "        \n",
    "print(f\"Numbers less than 65 are : {nums}\")\n",
    "print(len(nums))"
   ]
  },
  {
   "cell_type": "markdown",
   "id": "f94385a2",
   "metadata": {},
   "source": [
    "### Square each Element from a given list\n",
    "You have a list of numbers 1 to 10 and you have to double each element of that list. e.g. [1, 2, 3] will be [1, 4, 9]."
   ]
  },
  {
   "cell_type": "code",
   "execution_count": 12,
   "id": "2f644137",
   "metadata": {},
   "outputs": [
    {
     "name": "stdout",
     "output_type": "stream",
     "text": [
      "Doubling list is: [1, 4, 9, 16, 25, 36, 49, 64, 81, 100]\n"
     ]
    }
   ],
   "source": [
    "nums = [1, 2, 3, 4, 5, 6, 7, 8, 9, 10]\n",
    "\n",
    "nums_double = []\n",
    "for num in nums:\n",
    "    nums_double.append(num*num)\n",
    "    \n",
    "print(f\"Doubling list is: {nums_double}\")"
   ]
  },
  {
   "cell_type": "markdown",
   "id": "c17b1f02",
   "metadata": {},
   "source": [
    "### A dictionary with even numbers as keys and their squares as values\n",
    "Suppose we want to create an output dictionary that contains only even numbers which are present in the input list as keys and their squares as values. Ex – {2: 4, 3: 9}. So write a program to create this dictionary."
   ]
  },
  {
   "cell_type": "code",
   "execution_count": 13,
   "id": "89508b61",
   "metadata": {},
   "outputs": [
    {
     "name": "stdout",
     "output_type": "stream",
     "text": [
      "{2: 4, 4: 16, 6: 36, 8: 64, 10: 100}\n"
     ]
    }
   ],
   "source": [
    "input_list = [1, 2, 3, 4, 5, 6, 7, 8, 9, 10, 11]\n",
    "\n",
    "output = {}\n",
    "for num in input_list:\n",
    "    if num%2 == 0:\n",
    "        output[num] = num*num\n",
    "\n",
    "print(output)"
   ]
  },
  {
   "cell_type": "markdown",
   "id": "498fd6a8",
   "metadata": {},
   "source": [
    "### Write a program to return the factorial of a number using a function\n",
    "\n",
    "The factorial of a number is defined as the product of an integer and all the integers below it. It means, the factorial of 4 is 1×2×3×4, which is equal to 24. It is represented using the symbol ‘!’ So, 24 is the value of 4!"
   ]
  },
  {
   "cell_type": "code",
   "execution_count": 14,
   "id": "7ffee58e",
   "metadata": {},
   "outputs": [
    {
     "name": "stdout",
     "output_type": "stream",
     "text": [
      "Factorial of 9 is 362880\n"
     ]
    }
   ],
   "source": [
    "def factorial(num):\n",
    "    mult = 1\n",
    "    for i in range(1, num+1):\n",
    "        mult *= i\n",
    "    print(f\"Factorial of {num} is {mult}\")\n",
    "    \n",
    "factorial(9)       "
   ]
  },
  {
   "cell_type": "markdown",
   "id": "2700113c",
   "metadata": {},
   "source": [
    "### Write a program to return the initials of the word contained in the given phrase, in upper case\n",
    "\n",
    "Understand this example, “australian space agency” should return “ASA” or “danish National Space center” should return “DNSC”."
   ]
  },
  {
   "cell_type": "code",
   "execution_count": 15,
   "id": "8f4f452c",
   "metadata": {},
   "outputs": [
    {
     "data": {
      "text/plain": [
       "'ISRO'"
      ]
     },
     "execution_count": 15,
     "metadata": {},
     "output_type": "execute_result"
    }
   ],
   "source": [
    "def short_upper(text):\n",
    "    words = text.split()\n",
    "    text_first_upper = \"\"\n",
    "    for word in words:\n",
    "        first_letters = word[0].upper()\n",
    "        text_first_upper += first_letters\n",
    "    return text_first_upper\n",
    "\n",
    "short_upper(\"INDIAN SPACE RESEARCH ORGANISATION\")"
   ]
  },
  {
   "cell_type": "markdown",
   "id": "3d3824f0",
   "metadata": {},
   "source": [
    "### Write a python program to check if given phrases are palindrome are not\n",
    "\n",
    "Palindrome:- A palindrome is a word, phrase, verse or sentence that reads the same forward or backward. For Example:- “Redder” is a palindrome. “Borrow or bob” is also a palindrome. “Nurse is Nurse” is not a palindrome."
   ]
  },
  {
   "cell_type": "code",
   "execution_count": 16,
   "id": "7dfa1e8e",
   "metadata": {},
   "outputs": [],
   "source": [
    "def is_palindrome(input_string):\n",
    "    new_string = input_string.split()\n",
    "    print(new_string)\n",
    "    new_string = \"\".join(new_string).lower()\n",
    "    print(new_string)\n",
    "    reverse_string = new_string[::-1]\n",
    "    print(reverse_string)\n",
    "    if new_string == reverse_string:\n",
    "        return True\n",
    "    return False  "
   ]
  },
  {
   "cell_type": "code",
   "execution_count": 17,
   "id": "e4c98aa6",
   "metadata": {},
   "outputs": [
    {
     "name": "stdout",
     "output_type": "stream",
     "text": [
      "['Never', 'Odd', 'Or', 'Even']\n",
      "neveroddoreven\n",
      "neveroddoreven\n",
      "True\n"
     ]
    }
   ],
   "source": [
    "print(is_palindrome(\"Never Odd Or Even\"))  "
   ]
  },
  {
   "cell_type": "code",
   "execution_count": 18,
   "id": "7a401952",
   "metadata": {},
   "outputs": [
    {
     "name": "stdout",
     "output_type": "stream",
     "text": [
      "['Victory', 'Story', 'kiv']\n",
      "victorystorykiv\n",
      "vikyrotsyrotciv\n",
      "False\n"
     ]
    }
   ],
   "source": [
    "print(is_palindrome(\"Victory Story kiv\"))"
   ]
  },
  {
   "cell_type": "markdown",
   "id": "1a6c3189",
   "metadata": {},
   "source": [
    "### Write a program to convert the fahrenheit degree value into celcius\n",
    "\n",
    "Ask the user, the temperature degree in Fahrenheit. Now your task is to convert the value to the Celcius scale in 1 float point number(28.9) and print it."
   ]
  },
  {
   "cell_type": "code",
   "execution_count": 19,
   "id": "bf94ad30",
   "metadata": {},
   "outputs": [
    {
     "name": "stdout",
     "output_type": "stream",
     "text": [
      "Please enter the temperature in Farenheit: 21\n",
      "21.0 degree fahrenheit is equal to -6.1 degree celcius\n"
     ]
    }
   ],
   "source": [
    "temp_f = float(input(\"Please enter the temperature in Farenheit: \"))\n",
    "temp_c = round((temp_f-32)/1.8, 1)\n",
    "print(f\"{temp_f} degree fahrenheit is equal to {temp_c} degree celcius\")"
   ]
  },
  {
   "cell_type": "markdown",
   "id": "e079f4c9",
   "metadata": {},
   "source": [
    "### Write a function to return a new string from a given string after removing a specific word\n",
    "\n",
    "Remove letter \"o\" from this given string \"pneumonoultramicroscopicsilicovolcanoconiosis\" and print it."
   ]
  },
  {
   "cell_type": "code",
   "execution_count": 20,
   "id": "8e2e82e0",
   "metadata": {},
   "outputs": [
    {
     "name": "stdout",
     "output_type": "stream",
     "text": [
      "['pneum', 'n', 'ultramicr', 'sc', 'picsilic', 'v', 'lcan', 'c', 'ni', 'sis']\n",
      "pneumnultramicrscpicsilicvlcancnisis\n"
     ]
    }
   ],
   "source": [
    "def remove_letter(n):\n",
    "    split_it = n.split(\"o\")\n",
    "    print(split_it)\n",
    "    result = \"\".join(split_it)\n",
    "    return result\n",
    "\n",
    "print(remove_letter(\"pneumonoultramicroscopicsilicovolcanoconiosis\"))"
   ]
  },
  {
   "cell_type": "markdown",
   "id": "774b9cd2",
   "metadata": {},
   "source": [
    "### Write a Pandas program to add, subtract, multiple and divide two Pandas Series"
   ]
  },
  {
   "cell_type": "code",
   "execution_count": 49,
   "id": "d816bc16",
   "metadata": {},
   "outputs": [],
   "source": [
    "import numpy as np\n",
    "import pandas as pd\n",
    "\n",
    "s1 = pd.Series([2, 4, 6, 8, 10])\n",
    "s2 = pd.Series([1, 3, 5, 7, 9])\n",
    "\n",
    "def operation(series1, series2, ops):\n",
    "    if ops == \"add\":\n",
    "        ser = series1.add(series2, fill_value=0)\n",
    "    elif ops == \"subtract\":\n",
    "        ser = series1 - series2\n",
    "    elif ops == \"multiple\":\n",
    "        ser = series1 * series2\n",
    "    else:\n",
    "        ser == np.divide(series1, series2)\n",
    "    return ser"
   ]
  },
  {
   "cell_type": "code",
   "execution_count": 50,
   "id": "69ae4566",
   "metadata": {},
   "outputs": [
    {
     "data": {
      "text/plain": [
       "0     3\n",
       "1     7\n",
       "2    11\n",
       "3    15\n",
       "4    19\n",
       "dtype: int64"
      ]
     },
     "execution_count": 50,
     "metadata": {},
     "output_type": "execute_result"
    }
   ],
   "source": [
    "operation(s1, s2, \"add\")"
   ]
  },
  {
   "cell_type": "code",
   "execution_count": 51,
   "id": "3c33505c",
   "metadata": {},
   "outputs": [
    {
     "data": {
      "text/plain": [
       "0    1\n",
       "1    1\n",
       "2    1\n",
       "3    1\n",
       "4    1\n",
       "dtype: int64"
      ]
     },
     "execution_count": 51,
     "metadata": {},
     "output_type": "execute_result"
    }
   ],
   "source": [
    "operation(s1, s2, \"subtract\")"
   ]
  },
  {
   "cell_type": "code",
   "execution_count": 52,
   "id": "c9859e99",
   "metadata": {},
   "outputs": [
    {
     "data": {
      "text/plain": [
       "0     2\n",
       "1    12\n",
       "2    30\n",
       "3    56\n",
       "4    90\n",
       "dtype: int64"
      ]
     },
     "execution_count": 52,
     "metadata": {},
     "output_type": "execute_result"
    }
   ],
   "source": [
    "operation(s1, s2, \"multiple\")"
   ]
  },
  {
   "cell_type": "code",
   "execution_count": 53,
   "id": "99fae8bc",
   "metadata": {},
   "outputs": [
    {
     "ename": "UnboundLocalError",
     "evalue": "local variable 'ser' referenced before assignment",
     "output_type": "error",
     "traceback": [
      "\u001b[1;31m---------------------------------------------------------------------------\u001b[0m",
      "\u001b[1;31mUnboundLocalError\u001b[0m                         Traceback (most recent call last)",
      "\u001b[1;32m<ipython-input-53-448427025128>\u001b[0m in \u001b[0;36m<module>\u001b[1;34m\u001b[0m\n\u001b[1;32m----> 1\u001b[1;33m \u001b[0moperation\u001b[0m\u001b[1;33m(\u001b[0m\u001b[0ms1\u001b[0m\u001b[1;33m,\u001b[0m \u001b[0ms2\u001b[0m\u001b[1;33m,\u001b[0m \u001b[1;34m\"div\"\u001b[0m\u001b[1;33m)\u001b[0m\u001b[1;33m\u001b[0m\u001b[1;33m\u001b[0m\u001b[0m\n\u001b[0m",
      "\u001b[1;32m<ipython-input-49-81908d3c3d5a>\u001b[0m in \u001b[0;36moperation\u001b[1;34m(series1, series2, ops)\u001b[0m\n\u001b[0;32m     13\u001b[0m         \u001b[0mser\u001b[0m \u001b[1;33m=\u001b[0m \u001b[0mseries1\u001b[0m \u001b[1;33m*\u001b[0m \u001b[0mseries2\u001b[0m\u001b[1;33m\u001b[0m\u001b[1;33m\u001b[0m\u001b[0m\n\u001b[0;32m     14\u001b[0m     \u001b[1;32melse\u001b[0m\u001b[1;33m:\u001b[0m\u001b[1;33m\u001b[0m\u001b[1;33m\u001b[0m\u001b[0m\n\u001b[1;32m---> 15\u001b[1;33m         \u001b[0mser\u001b[0m \u001b[1;33m==\u001b[0m \u001b[0mnp\u001b[0m\u001b[1;33m.\u001b[0m\u001b[0mdivide\u001b[0m\u001b[1;33m(\u001b[0m\u001b[0mseries1\u001b[0m\u001b[1;33m,\u001b[0m \u001b[0mseries2\u001b[0m\u001b[1;33m)\u001b[0m\u001b[1;33m\u001b[0m\u001b[1;33m\u001b[0m\u001b[0m\n\u001b[0m\u001b[0;32m     16\u001b[0m     \u001b[1;32mreturn\u001b[0m \u001b[0mser\u001b[0m\u001b[1;33m\u001b[0m\u001b[1;33m\u001b[0m\u001b[0m\n",
      "\u001b[1;31mUnboundLocalError\u001b[0m: local variable 'ser' referenced before assignment"
     ]
    }
   ],
   "source": [
    "operation(s1, s2, \"div\")"
   ]
  },
  {
   "cell_type": "code",
   "execution_count": null,
   "id": "2d05a818",
   "metadata": {},
   "outputs": [],
   "source": []
  }
 ],
 "metadata": {
  "kernelspec": {
   "display_name": "Python 3",
   "language": "python",
   "name": "python3"
  },
  "language_info": {
   "codemirror_mode": {
    "name": "ipython",
    "version": 3
   },
   "file_extension": ".py",
   "mimetype": "text/x-python",
   "name": "python",
   "nbconvert_exporter": "python",
   "pygments_lexer": "ipython3",
   "version": "3.8.8"
  }
 },
 "nbformat": 4,
 "nbformat_minor": 5
}
