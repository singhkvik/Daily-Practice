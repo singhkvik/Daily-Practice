{
 "cells": [
  {
   "cell_type": "markdown",
   "id": "f81db552",
   "metadata": {},
   "source": [
    "### Write a program that will ask the user any number, then print the multiplication table of that number"
   ]
  },
  {
   "cell_type": "code",
   "execution_count": 1,
   "id": "1ccd88bd",
   "metadata": {},
   "outputs": [
    {
     "name": "stdout",
     "output_type": "stream",
     "text": [
      "What is your number for multiplication table: 10\n",
      "10 * 1 = 10\n",
      "10 * 2 = 20\n",
      "10 * 3 = 30\n",
      "10 * 4 = 40\n",
      "10 * 5 = 50\n",
      "10 * 6 = 60\n",
      "10 * 7 = 70\n",
      "10 * 8 = 80\n",
      "10 * 9 = 90\n",
      "10 * 10 = 100\n"
     ]
    }
   ],
   "source": [
    "user_num = int(input(\"What is your number for multiplication table: \"))\n",
    "\n",
    "for i in range(1,11):\n",
    "    mult = user_num * i\n",
    "    print(f\"{user_num} * {i} = {mult}\")"
   ]
  },
  {
   "cell_type": "markdown",
   "id": "e3ece3b8",
   "metadata": {},
   "source": [
    "### You have a list of the names of all the planets in your solar system. Write a program that will print planet names with a length greater than 5."
   ]
  },
  {
   "cell_type": "code",
   "execution_count": 2,
   "id": "2f52580a",
   "metadata": {},
   "outputs": [
    {
     "name": "stdout",
     "output_type": "stream",
     "text": [
      "Mercury\n",
      "Jupiter\n",
      "Saturn\n",
      "Uranus\n",
      "Neptune\n"
     ]
    }
   ],
   "source": [
    "planets = [\"Mercury\", \"Venus\", \"Earth\", \"Mars\", \"Jupiter\", \"Saturn\", \"Uranus\", \"Neptune\"]\n",
    "\n",
    "for planet in planets:\n",
    "    if len(planet) > 5:\n",
    "        print(planet)     "
   ]
  },
  {
   "cell_type": "markdown",
   "id": "f377de8d",
   "metadata": {},
   "source": [
    "### You have three number, (a = 1000, b = 240, c = 40), you may assume another number. Now, write a program to find which is greatest number."
   ]
  },
  {
   "cell_type": "code",
   "execution_count": 3,
   "id": "6f549b6e",
   "metadata": {},
   "outputs": [
    {
     "name": "stdout",
     "output_type": "stream",
     "text": [
      "\"b\" having value 2000 is the greatest number.\n"
     ]
    }
   ],
   "source": [
    "a = 1000\n",
    "b = 2000\n",
    "c = 40\n",
    "\n",
    "if a>b and a>c:\n",
    "    print(f'\"a\" having value {a} is the greatest number.')\n",
    "elif b>a and b>c:\n",
    "    print(f'\"b\" having value {b} is the greatest number.')\n",
    "elif c>a and c>b:\n",
    "    print(f'\"c\" having value {c} is the greatest number.')"
   ]
  },
  {
   "cell_type": "markdown",
   "id": "474befb0",
   "metadata": {},
   "source": [
    "### Write a program that will print the 15 randomly generated numbers from 1 digit to 3 digits. Also, print which number is even and which is odd."
   ]
  },
  {
   "cell_type": "code",
   "execution_count": 4,
   "id": "a1ae7252",
   "metadata": {},
   "outputs": [],
   "source": [
    "# Import required libraries\n",
    "\n",
    "import random"
   ]
  },
  {
   "cell_type": "code",
   "execution_count": 5,
   "id": "ecb57f98",
   "metadata": {},
   "outputs": [
    {
     "name": "stdout",
     "output_type": "stream",
     "text": [
      "[457, 389, 913, 184, 479, 583, 220, 692, 132, 32, 174, 848, 872, 966, 763]\n"
     ]
    }
   ],
   "source": [
    "number_list = []\n",
    "\n",
    "for i in range(0,15):\n",
    "    number_list.append(random.randint(1,999))\n",
    "    \n",
    "print(number_list)"
   ]
  },
  {
   "cell_type": "code",
   "execution_count": 6,
   "id": "9f8d46df",
   "metadata": {},
   "outputs": [
    {
     "name": "stdout",
     "output_type": "stream",
     "text": [
      "457 is an odd number\n",
      "389 is an odd number\n",
      "913 is an odd number\n",
      "184 is an even number\n",
      "479 is an odd number\n",
      "583 is an odd number\n",
      "220 is an even number\n",
      "692 is an even number\n",
      "132 is an even number\n",
      "32 is an even number\n",
      "174 is an even number\n",
      "848 is an even number\n",
      "872 is an even number\n",
      "966 is an even number\n",
      "763 is an odd number\n"
     ]
    }
   ],
   "source": [
    "for num in number_list:\n",
    "    if num % 2 == 0:\n",
    "        print(f\"{num} is an even number\")\n",
    "    else:\n",
    "        print(f\"{num} is an odd number\")"
   ]
  },
  {
   "cell_type": "markdown",
   "id": "882010c7",
   "metadata": {},
   "source": [
    "### Print today’s date and 365 days ago date"
   ]
  },
  {
   "cell_type": "code",
   "execution_count": 7,
   "id": "67ea66d0",
   "metadata": {},
   "outputs": [
    {
     "name": "stdout",
     "output_type": "stream",
     "text": [
      "Today is: 2022-04-05 21:29:42.223963\n",
      "365 days ago date was:: 2021-04-05 21:29:42.223963\n"
     ]
    }
   ],
   "source": [
    "from datetime import datetime, timedelta\n",
    "\n",
    "date_today = datetime.now()\n",
    "date_365 = date_today - timedelta(days=365)\n",
    "\n",
    "print(f\"Today is: {date_today}\")\n",
    "print(f\"365 days ago date was:: {date_365}\")"
   ]
  },
  {
   "cell_type": "markdown",
   "id": "8d05d049",
   "metadata": {},
   "source": [
    "### Program that will print price including tax.\n",
    "\n",
    "People from some states of America have come to see the show going on in London, and for this, they have to pay $ 12 and tax separately.\n",
    "\n",
    "Now, write a program that will ask the users the name of their state. If they’re from “New York, Los Angeles, Chicago, Houston, Phoenix, San Antonio, San Diego, Dallas, San Jose, Austin” then include the tax of $1.21 in their price and print it.\n",
    "\n",
    "And if they are from “Fort Worth, Columbus, San Francisco, Denver, Washington, El Paso, Las Vegas, Detroit, Louisville, Albuquerque” then include the tax of $0.41 in their price and print it.\n",
    "\n",
    "And if they are from any other states then include the tax of $0.39 in their price and print it."
   ]
  },
  {
   "cell_type": "code",
   "execution_count": 8,
   "id": "728a6a6f",
   "metadata": {},
   "outputs": [
    {
     "name": "stdout",
     "output_type": "stream",
     "text": [
      "['new york', 'los angeles', 'chicago', 'houston', 'phoenix', 'san antonio', 'san diego', 'dallas', 'san jose', 'austin']\n"
     ]
    }
   ],
   "source": [
    "states = [\"New York\", \"Los Angeles\", \"Chicago\", \"Houston\", \"Phoenix\", \"San Antonio\", \"San Diego\", \"Dallas\", \n",
    "          \"San Jose\", \"Austin\"]\n",
    "\n",
    "states_lower = []\n",
    "for state in states:\n",
    "    states_lower.append(state.lower())\n",
    "print(states_lower)  "
   ]
  },
  {
   "cell_type": "code",
   "execution_count": 9,
   "id": "0e8ccb19",
   "metadata": {},
   "outputs": [
    {
     "name": "stdout",
     "output_type": "stream",
     "text": [
      "Please enter your state name: chicago\n",
      "Including tax 1.21 dollar, you will have to pay 13.21 dollar.\n"
     ]
    }
   ],
   "source": [
    "user_state = input(\"Please enter your state name: \").lower()\n",
    "ticket_price = 12\n",
    "tax_states = 1.21\n",
    "tax_others = 0.39\n",
    "final_price = 0\n",
    "\n",
    "if user_state in states_lower:\n",
    "    final_price = ticket_price + tax_states\n",
    "    print(f\"Including tax {tax_states} dollar, you will have to pay {final_price} dollar.\")\n",
    "else:\n",
    "    final_price = ticket_price + 0.39\n",
    "    print(f\"Including tax {tax_others} dollar, you will have to pay {final_price} dollar.\")"
   ]
  },
  {
   "cell_type": "markdown",
   "id": "718b0357",
   "metadata": {},
   "source": [
    "### Remove numbers greater than 65 from a list while iterating\n",
    "\n",
    "Write a program to remove numbers greater than 65 out of 30 randomly generated numbers between 18 and 82 from a list while iterating."
   ]
  },
  {
   "cell_type": "code",
   "execution_count": 10,
   "id": "11ec9ed9",
   "metadata": {},
   "outputs": [
    {
     "name": "stdout",
     "output_type": "stream",
     "text": [
      "30 Random Numbers are: [42, 63, 19, 67, 74, 43, 79, 29, 35, 54, 30, 38, 78, 56, 82, 24, 45, 33, 71, 39, 49, 27, 71, 73, 52, 57, 29, 73, 45, 56]\n",
      "30\n"
     ]
    }
   ],
   "source": [
    "import random\n",
    "\n",
    "nums = []\n",
    "for i in range(30):\n",
    "    num = random.randint(18,82)\n",
    "    nums.append(num)\n",
    "    \n",
    "print(f\"30 Random Numbers are: {nums}\")\n",
    "print(len(nums))"
   ]
  },
  {
   "cell_type": "code",
   "execution_count": 11,
   "id": "a5e94262",
   "metadata": {},
   "outputs": [
    {
     "name": "stdout",
     "output_type": "stream",
     "text": [
      "Numbers less than 65 are : [42, 63, 19, 74, 43, 29, 35, 54, 30, 38, 56, 24, 45, 33, 39, 49, 27, 52, 57, 29, 73, 45, 56]\n",
      "23\n"
     ]
    }
   ],
   "source": [
    "for num in nums:\n",
    "    if num > 65:\n",
    "        nums.remove(num)\n",
    "        \n",
    "print(f\"Numbers less than 65 are : {nums}\")\n",
    "print(len(nums))"
   ]
  },
  {
   "cell_type": "markdown",
   "id": "a4ac623f",
   "metadata": {},
   "source": [
    "### Square each Element from a given list\n",
    "You have a list of numbers 1 to 10 and you have to double each element of that list. e.g. [1, 2, 3] will be [1, 4, 9]."
   ]
  },
  {
   "cell_type": "code",
   "execution_count": 12,
   "id": "19868fbc",
   "metadata": {},
   "outputs": [
    {
     "name": "stdout",
     "output_type": "stream",
     "text": [
      "Doubling list is: [1, 4, 9, 16, 25, 36, 49, 64, 81, 100]\n"
     ]
    }
   ],
   "source": [
    "nums = [1, 2, 3, 4, 5, 6, 7, 8, 9, 10]\n",
    "\n",
    "nums_double = []\n",
    "for num in nums:\n",
    "    nums_double.append(num*num)\n",
    "    \n",
    "print(f\"Doubling list is: {nums_double}\")"
   ]
  },
  {
   "cell_type": "markdown",
   "id": "d590af88",
   "metadata": {},
   "source": [
    "### A dictionary with even numbers as keys and their squares as values\n",
    "Suppose we want to create an output dictionary that contains only even numbers which are present in the input list as keys and their squares as values. Ex – {2: 4, 3: 9}. So write a program to create this dictionary."
   ]
  },
  {
   "cell_type": "code",
   "execution_count": 13,
   "id": "37fe4ec7",
   "metadata": {},
   "outputs": [
    {
     "name": "stdout",
     "output_type": "stream",
     "text": [
      "{2: 4, 4: 16, 6: 36, 8: 64, 10: 100}\n"
     ]
    }
   ],
   "source": [
    "input_list = [1, 2, 3, 4, 5, 6, 7, 8, 9, 10, 11]\n",
    "\n",
    "output = {}\n",
    "for num in input_list:\n",
    "    if num%2 == 0:\n",
    "        output[num] = num*num\n",
    "\n",
    "print(output)"
   ]
  },
  {
   "cell_type": "markdown",
   "id": "09c24e03",
   "metadata": {},
   "source": [
    "### Write a program to return the factorial of a number using a function\n",
    "\n",
    "The factorial of a number is defined as the product of an integer and all the integers below it. It means, the factorial of 4 is 1×2×3×4, which is equal to 24. It is represented using the symbol ‘!’ So, 24 is the value of 4!"
   ]
  },
  {
   "cell_type": "code",
   "execution_count": 14,
   "id": "6ca41ed1",
   "metadata": {},
   "outputs": [
    {
     "name": "stdout",
     "output_type": "stream",
     "text": [
      "Factorial of 9 is 362880\n"
     ]
    }
   ],
   "source": [
    "def factorial(num):\n",
    "    mult = 1\n",
    "    for i in range(1, num+1):\n",
    "        mult *= i\n",
    "    print(f\"Factorial of {num} is {mult}\")\n",
    "    \n",
    "factorial(9)       "
   ]
  },
  {
   "cell_type": "markdown",
   "id": "a1f64ccb",
   "metadata": {},
   "source": [
    "### Write a program to return the initials of the word contained in the given phrase, in upper case\n",
    "\n",
    "Understand this example, “australian space agency” should return “ASA” or “danish National Space center” should return “DNSC”."
   ]
  },
  {
   "cell_type": "code",
   "execution_count": 15,
   "id": "18fd20e8",
   "metadata": {},
   "outputs": [
    {
     "data": {
      "text/plain": [
       "'ISRO'"
      ]
     },
     "execution_count": 15,
     "metadata": {},
     "output_type": "execute_result"
    }
   ],
   "source": [
    "def short_upper(text):\n",
    "    words = text.split()\n",
    "    text_first_upper = \"\"\n",
    "    for word in words:\n",
    "        first_letters = word[0].upper()\n",
    "        text_first_upper += first_letters\n",
    "    return text_first_upper\n",
    "\n",
    "short_upper(\"INDIAN SPACE RESEARCH ORGANISATION\")"
   ]
  },
  {
   "cell_type": "markdown",
   "id": "5bc44c7d",
   "metadata": {},
   "source": [
    "### Write a python program to check if given phrases are palindrome are not\n",
    "\n",
    "Palindrome:- A palindrome is a word, phrase, verse or sentence that reads the same forward or backward. For Example:- “Redder” is a palindrome. “Borrow or bob” is also a palindrome. “Nurse is Nurse” is not a palindrome."
   ]
  },
  {
   "cell_type": "code",
   "execution_count": 16,
   "id": "78afcf57",
   "metadata": {},
   "outputs": [],
   "source": [
    "def is_palindrome(input_string):\n",
    "    new_string = input_string.split()\n",
    "    print(new_string)\n",
    "    new_string = \"\".join(new_string).lower()\n",
    "    print(new_string)\n",
    "    reverse_string = new_string[::-1]\n",
    "    print(reverse_string)\n",
    "    if new_string == reverse_string:\n",
    "        return True\n",
    "    return False  "
   ]
  },
  {
   "cell_type": "code",
   "execution_count": 17,
   "id": "d258ee3d",
   "metadata": {},
   "outputs": [
    {
     "name": "stdout",
     "output_type": "stream",
     "text": [
      "['Never', 'Odd', 'Or', 'Even']\n",
      "neveroddoreven\n",
      "neveroddoreven\n",
      "True\n"
     ]
    }
   ],
   "source": [
    "print(is_palindrome(\"Never Odd Or Even\"))  "
   ]
  },
  {
   "cell_type": "code",
   "execution_count": 18,
   "id": "21528cd7",
   "metadata": {},
   "outputs": [
    {
     "name": "stdout",
     "output_type": "stream",
     "text": [
      "['Victory', 'Story', 'kiv']\n",
      "victorystorykiv\n",
      "vikyrotsyrotciv\n",
      "False\n"
     ]
    }
   ],
   "source": [
    "print(is_palindrome(\"Victory Story kiv\"))"
   ]
  },
  {
   "cell_type": "markdown",
   "id": "b791efc4",
   "metadata": {},
   "source": [
    "### Write a program to convert the fahrenheit degree value into celcius\n",
    "\n",
    "Ask the user, the temperature degree in Fahrenheit. Now your task is to convert the value to the Celcius scale in 1 float point number(28.9) and print it."
   ]
  },
  {
   "cell_type": "code",
   "execution_count": 19,
   "id": "9a1c34d7",
   "metadata": {},
   "outputs": [
    {
     "name": "stdout",
     "output_type": "stream",
     "text": [
      "Please enter the temperature in Farenheit: 21\n",
      "21.0 degree fahrenheit is equal to -6.1 degree celcius\n"
     ]
    }
   ],
   "source": [
    "temp_f = float(input(\"Please enter the temperature in Farenheit: \"))\n",
    "temp_c = round((temp_f-32)/1.8, 1)\n",
    "print(f\"{temp_f} degree fahrenheit is equal to {temp_c} degree celcius\")"
   ]
  },
  {
   "cell_type": "markdown",
   "id": "1961b73d",
   "metadata": {},
   "source": [
    "### Write a function to return a new string from a given string after removing a specific word\n",
    "\n",
    "Remove letter \"o\" from this given string \"pneumonoultramicroscopicsilicovolcanoconiosis\" and print it."
   ]
  },
  {
   "cell_type": "code",
   "execution_count": 20,
   "id": "ed38a68d",
   "metadata": {},
   "outputs": [
    {
     "name": "stdout",
     "output_type": "stream",
     "text": [
      "['pneum', 'n', 'ultramicr', 'sc', 'picsilic', 'v', 'lcan', 'c', 'ni', 'sis']\n",
      "pneumnultramicrscpicsilicvlcancnisis\n"
     ]
    }
   ],
   "source": [
    "def remove_letter(n):\n",
    "    split_it = n.split(\"o\")\n",
    "    print(split_it)\n",
    "    result = \"\".join(split_it)\n",
    "    return result\n",
    "\n",
    "print(remove_letter(\"pneumonoultramicroscopicsilicovolcanoconiosis\"))"
   ]
  },
  {
   "cell_type": "markdown",
   "id": "ae962fc8",
   "metadata": {},
   "source": [
    "### Write a Pandas program to add, subtract, multiple and divide two Pandas Series"
   ]
  },
  {
   "cell_type": "code",
   "execution_count": 54,
   "id": "d2050cb5",
   "metadata": {},
   "outputs": [
    {
     "name": "stdout",
     "output_type": "stream",
     "text": [
      "0     3\n",
      "1     7\n",
      "2    11\n",
      "3    15\n",
      "4    19\n",
      "dtype: int64\n",
      "0     2\n",
      "1    12\n",
      "2    30\n",
      "3    56\n",
      "4    90\n",
      "dtype: int64\n",
      "0    1\n",
      "1    1\n",
      "2    1\n",
      "3    1\n",
      "4    1\n",
      "dtype: int64\n",
      "0    2.000000\n",
      "1    1.333333\n",
      "2    1.200000\n",
      "3    1.142857\n",
      "4    1.111111\n",
      "dtype: float64\n"
     ]
    }
   ],
   "source": [
    "import numpy as np\n",
    "import pandas as pd\n",
    "\n",
    "x=pd.Series([2,4,6,8,10])\n",
    "y=pd.Series([1,3,5,7,9])\n",
    "print(np.add(x,y))\n",
    "print(np.multiply(x,y))\n",
    "print(np.subtract(x,y))\n",
    "print(np.divide(x,y))"
   ]
  },
  {
   "cell_type": "markdown",
   "id": "bdfc825d",
   "metadata": {},
   "source": [
    "### Write a Pandas program to compare the elements of the two Pandas Series"
   ]
  },
  {
   "cell_type": "code",
   "execution_count": 55,
   "id": "dbe4e123",
   "metadata": {},
   "outputs": [],
   "source": [
    "import numpy as np\n",
    "import pandas as pd\n",
    "\n",
    "x=pd.Series([2,4,6,8,10])\n",
    "y=pd.Series([1,3,5,7,9])"
   ]
  },
  {
   "cell_type": "code",
   "execution_count": 56,
   "id": "6ce1bd28",
   "metadata": {},
   "outputs": [
    {
     "data": {
      "text/plain": [
       "0    True\n",
       "1    True\n",
       "2    True\n",
       "3    True\n",
       "4    True\n",
       "dtype: bool"
      ]
     },
     "execution_count": 56,
     "metadata": {},
     "output_type": "execute_result"
    }
   ],
   "source": [
    "x > y"
   ]
  },
  {
   "cell_type": "code",
   "execution_count": 57,
   "id": "2dce36b7",
   "metadata": {},
   "outputs": [
    {
     "data": {
      "text/plain": [
       "0    False\n",
       "1    False\n",
       "2    False\n",
       "3    False\n",
       "4    False\n",
       "dtype: bool"
      ]
     },
     "execution_count": 57,
     "metadata": {},
     "output_type": "execute_result"
    }
   ],
   "source": [
    "x == y"
   ]
  },
  {
   "cell_type": "code",
   "execution_count": 58,
   "id": "aa53daca",
   "metadata": {},
   "outputs": [
    {
     "data": {
      "text/plain": [
       "0    False\n",
       "1    False\n",
       "2    False\n",
       "3    False\n",
       "4    False\n",
       "dtype: bool"
      ]
     },
     "execution_count": 58,
     "metadata": {},
     "output_type": "execute_result"
    }
   ],
   "source": [
    "x < y"
   ]
  },
  {
   "cell_type": "markdown",
   "id": "255ef75c",
   "metadata": {},
   "source": [
    "### Write a Pandas program to convert a dictionary to a Pandas series"
   ]
  },
  {
   "cell_type": "code",
   "execution_count": 59,
   "id": "1c22bbaf",
   "metadata": {},
   "outputs": [],
   "source": [
    "s = pd.Series({'a': 100, 'b': 200, 'c': 300, 'd': 400, 'e': 800})"
   ]
  },
  {
   "cell_type": "code",
   "execution_count": 62,
   "id": "56245163",
   "metadata": {},
   "outputs": [
    {
     "data": {
      "text/plain": [
       "a    100\n",
       "b    200\n",
       "c    300\n",
       "d    400\n",
       "e    800\n",
       "dtype: int64"
      ]
     },
     "execution_count": 62,
     "metadata": {},
     "output_type": "execute_result"
    }
   ],
   "source": [
    "s"
   ]
  },
  {
   "cell_type": "code",
   "execution_count": 63,
   "id": "dd018108",
   "metadata": {},
   "outputs": [
    {
     "data": {
      "text/plain": [
       "100"
      ]
     },
     "execution_count": 63,
     "metadata": {},
     "output_type": "execute_result"
    }
   ],
   "source": [
    "s[0]"
   ]
  },
  {
   "cell_type": "code",
   "execution_count": 65,
   "id": "f5a3fa26",
   "metadata": {},
   "outputs": [
    {
     "data": {
      "text/plain": [
       "100"
      ]
     },
     "execution_count": 65,
     "metadata": {},
     "output_type": "execute_result"
    }
   ],
   "source": [
    "s['a']"
   ]
  },
  {
   "cell_type": "markdown",
   "id": "843ddc88",
   "metadata": {},
   "source": [
    "### Write a Pandas program to convert a NumPy array to a Pandas series"
   ]
  },
  {
   "cell_type": "code",
   "execution_count": 69,
   "id": "d2a14848",
   "metadata": {},
   "outputs": [],
   "source": [
    "np_array = np.array([10, 20, 30, 40, 50])\n",
    "s = pd.Series(np_array)"
   ]
  },
  {
   "cell_type": "code",
   "execution_count": 70,
   "id": "a2e24a27",
   "metadata": {},
   "outputs": [
    {
     "data": {
      "text/plain": [
       "0    10\n",
       "1    20\n",
       "2    30\n",
       "3    40\n",
       "4    50\n",
       "dtype: int32"
      ]
     },
     "execution_count": 70,
     "metadata": {},
     "output_type": "execute_result"
    }
   ],
   "source": [
    "s"
   ]
  },
  {
   "cell_type": "markdown",
   "id": "b92164c7",
   "metadata": {},
   "source": [
    "### Number Guessing Game\n",
    "\n",
    "* Build a Number guessing game, in which the user selects a range.\n",
    "* Let’s say User selected a range, i.e., from A to B, where A and B belong to Integer.\n",
    "* Some random integer will be selected by the system and the user has to guess that integer in the minimum number of guesses"
   ]
  },
  {
   "cell_type": "code",
   "execution_count": 3,
   "id": "02c749b8",
   "metadata": {},
   "outputs": [
    {
     "name": "stdout",
     "output_type": "stream",
     "text": [
      "Enter lower bound: 1\n",
      "Enter upper bound: 100\n",
      "44\n",
      "You have only 7 chances to guess the integer!\n"
     ]
    }
   ],
   "source": [
    "import math\n",
    "import random\n",
    "\n",
    "lower_bound = int(input(\"Enter lower bound: \"))\n",
    "upper_bound = int(input(\"Enter upper bound: \"))\n",
    "\n",
    "secret_num = random.randint(lower_bound, upper_bound)\n",
    "max_guess = round(math.log(upper_bound-lower_bound+1, 2))\n",
    "\n",
    "print(secret_num)\n",
    "print(f\"You have only {max_guess} chances to guess the integer!\")"
   ]
  },
  {
   "cell_type": "code",
   "execution_count": null,
   "id": "6b91208f",
   "metadata": {},
   "outputs": [
    {
     "name": "stdout",
     "output_type": "stream",
     "text": [
      "Guess the number: 50\n",
      "You guessed too high!\n",
      "Guess the number: 30\n",
      "You guessed too small!\n",
      "Guess the number: 31\n",
      "You guessed too small!\n",
      "Guess the number: 32\n",
      "You guessed too small!\n",
      "Guess the number: 33\n",
      "You guessed too small!\n",
      "Guess the number: 34\n",
      "You guessed too small!\n",
      "Guess the number: 35\n",
      "You guessed too small!\n",
      "Guess the number: 36\n",
      "You guessed too small!\n",
      "Guess the number: 37\n",
      "You guessed too small!\n",
      "Guess the number: 38\n",
      "You guessed too small!\n",
      "Guess the number: 39\n",
      "You guessed too small!\n",
      "Guess the number: 40\n",
      "You guessed too small!\n",
      "Guess the number: 41\n",
      "You guessed too small!\n",
      "Guess the number: 42\n",
      "You guessed too small!\n",
      "Guess the number: 43\n",
      "You guessed too small!\n",
      "Guess the number: 44\n",
      "Congratulation you did it in -9 try\n"
     ]
    }
   ],
   "source": [
    "user_guess = upper_bound + 1\n",
    "remaining_guess = max_guess\n",
    "\n",
    "while remaining_guess !=0 or user_guess != secret_num:\n",
    "    user_guess = int(input(\"Guess the number: \"))\n",
    "    remaining_guess -= 1\n",
    "    \n",
    "    if user_guess == secret_num:\n",
    "        print(f\"Congratulation you did it in {remaining_guess} try\")\n",
    "    elif user_guess > secret_num:\n",
    "        print(\"You guessed too high!\")\n",
    "    else:\n",
    "        print(\"You guessed too small!\")      "
   ]
  },
  {
   "cell_type": "code",
   "execution_count": null,
   "id": "b36fe7b5",
   "metadata": {},
   "outputs": [],
   "source": []
  }
 ],
 "metadata": {
  "kernelspec": {
   "display_name": "Python 3",
   "language": "python",
   "name": "python3"
  },
  "language_info": {
   "codemirror_mode": {
    "name": "ipython",
    "version": 3
   },
   "file_extension": ".py",
   "mimetype": "text/x-python",
   "name": "python",
   "nbconvert_exporter": "python",
   "pygments_lexer": "ipython3",
   "version": "3.8.8"
  }
 },
 "nbformat": 4,
 "nbformat_minor": 5
}
