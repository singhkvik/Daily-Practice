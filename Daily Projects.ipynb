{
 "cells": [
  {
   "cell_type": "markdown",
   "id": "f81db552",
   "metadata": {},
   "source": [
    "### Write a program that will ask the user any number, then print the multiplication table of that number"
   ]
  },
  {
   "cell_type": "code",
   "execution_count": 1,
   "id": "1ccd88bd",
   "metadata": {},
   "outputs": [
    {
     "name": "stdout",
     "output_type": "stream",
     "text": [
      "What is your number for multiplication table: 10\n",
      "10 * 1 = 10\n",
      "10 * 2 = 20\n",
      "10 * 3 = 30\n",
      "10 * 4 = 40\n",
      "10 * 5 = 50\n",
      "10 * 6 = 60\n",
      "10 * 7 = 70\n",
      "10 * 8 = 80\n",
      "10 * 9 = 90\n",
      "10 * 10 = 100\n"
     ]
    }
   ],
   "source": [
    "user_num = int(input(\"What is your number for multiplication table: \"))\n",
    "\n",
    "for i in range(1,11):\n",
    "    mult = user_num * i\n",
    "    print(f\"{user_num} * {i} = {mult}\")"
   ]
  },
  {
   "cell_type": "markdown",
   "id": "e3ece3b8",
   "metadata": {},
   "source": [
    "### You have a list of the names of all the planets in your solar system. Write a program that will print planet names with a length greater than 5."
   ]
  },
  {
   "cell_type": "code",
   "execution_count": 2,
   "id": "2f52580a",
   "metadata": {},
   "outputs": [
    {
     "name": "stdout",
     "output_type": "stream",
     "text": [
      "Mercury\n",
      "Jupiter\n",
      "Saturn\n",
      "Uranus\n",
      "Neptune\n"
     ]
    }
   ],
   "source": [
    "planets = [\"Mercury\", \"Venus\", \"Earth\", \"Mars\", \"Jupiter\", \"Saturn\", \"Uranus\", \"Neptune\"]\n",
    "\n",
    "for planet in planets:\n",
    "    if len(planet) > 5:\n",
    "        print(planet)     "
   ]
  },
  {
   "cell_type": "markdown",
   "id": "f377de8d",
   "metadata": {},
   "source": [
    "### You have three number, (a = 1000, b = 240, c = 40), you may assume another number. Now, write a program to find which is greatest number."
   ]
  },
  {
   "cell_type": "code",
   "execution_count": 4,
   "id": "6f549b6e",
   "metadata": {},
   "outputs": [
    {
     "name": "stdout",
     "output_type": "stream",
     "text": [
      "\"b\" having value 2000 is the greatest number.\n"
     ]
    }
   ],
   "source": [
    "a = 1000\n",
    "b = 2000\n",
    "c = 40\n",
    "\n",
    "if a>b and a>c:\n",
    "    print(f'\"a\" having value {a} is the greatest number.')\n",
    "elif b>a and b>c:\n",
    "    print(f'\"b\" having value {b} is the greatest number.')\n",
    "elif c>a and c>b:\n",
    "    print(f'\"c\" having value {c} is the greatest number.')"
   ]
  },
  {
   "cell_type": "markdown",
   "id": "474befb0",
   "metadata": {},
   "source": [
    "### Write a program that will print the 15 randomly generated numbers from 1 digit to 3 digits. Also, print which number is even and which is odd."
   ]
  },
  {
   "cell_type": "code",
   "execution_count": 5,
   "id": "a1ae7252",
   "metadata": {},
   "outputs": [],
   "source": [
    "# Import required libraries\n",
    "\n",
    "import random"
   ]
  },
  {
   "cell_type": "code",
   "execution_count": 6,
   "id": "ecb57f98",
   "metadata": {},
   "outputs": [
    {
     "name": "stdout",
     "output_type": "stream",
     "text": [
      "[811, 892, 884, 461, 72, 955, 432, 293, 86, 445, 343, 389, 802, 799, 657]\n"
     ]
    }
   ],
   "source": [
    "number_list = []\n",
    "\n",
    "for i in range(0,15):\n",
    "    number_list.append(random.randint(1,999))\n",
    "    \n",
    "print(number_list)"
   ]
  },
  {
   "cell_type": "code",
   "execution_count": 7,
   "id": "9f8d46df",
   "metadata": {},
   "outputs": [
    {
     "name": "stdout",
     "output_type": "stream",
     "text": [
      "811 is an odd number\n",
      "892 is an even number\n",
      "884 is an even number\n",
      "461 is an odd number\n",
      "72 is an even number\n",
      "955 is an odd number\n",
      "432 is an even number\n",
      "293 is an odd number\n",
      "86 is an even number\n",
      "445 is an odd number\n",
      "343 is an odd number\n",
      "389 is an odd number\n",
      "802 is an even number\n",
      "799 is an odd number\n",
      "657 is an odd number\n"
     ]
    }
   ],
   "source": [
    "for num in number_list:\n",
    "    if num % 2 == 0:\n",
    "        print(f\"{num} is an even number\")\n",
    "    else:\n",
    "        print(f\"{num} is an odd number\")"
   ]
  },
  {
   "cell_type": "markdown",
   "id": "882010c7",
   "metadata": {},
   "source": [
    "### Print today’s date and 365 days ago date"
   ]
  },
  {
   "cell_type": "code",
   "execution_count": 8,
   "id": "67ea66d0",
   "metadata": {},
   "outputs": [
    {
     "name": "stdout",
     "output_type": "stream",
     "text": [
      "Today is: 2022-04-01 10:58:57.081741\n",
      "365 days ago date was:: 2021-04-01 10:58:57.081741\n"
     ]
    }
   ],
   "source": [
    "from datetime import datetime, timedelta\n",
    "\n",
    "date_today = datetime.now()\n",
    "date_365 = date_today - timedelta(days=365)\n",
    "\n",
    "print(f\"Today is: {date_today}\")\n",
    "print(f\"365 days ago date was:: {date_365}\")"
   ]
  },
  {
   "cell_type": "markdown",
   "id": "8d05d049",
   "metadata": {},
   "source": [
    "### Program that will print price including tax.\n",
    "\n",
    "People from some states of America have come to see the show going on in London, and for this, they have to pay $ 12 and tax separately.\n",
    "\n",
    "Now, write a program that will ask the users the name of their state. If they’re from “New York, Los Angeles, Chicago, Houston, Phoenix, San Antonio, San Diego, Dallas, San Jose, Austin” then include the tax of $1.21 in their price and print it.\n",
    "\n",
    "And if they are from “Fort Worth, Columbus, San Francisco, Denver, Washington, El Paso, Las Vegas, Detroit, Louisville, Albuquerque” then include the tax of $0.41 in their price and print it.\n",
    "\n",
    "And if they are from any other states then include the tax of $0.39 in their price and print it."
   ]
  },
  {
   "cell_type": "code",
   "execution_count": 9,
   "id": "728a6a6f",
   "metadata": {},
   "outputs": [
    {
     "name": "stdout",
     "output_type": "stream",
     "text": [
      "['new york', 'los angeles', 'chicago', 'houston', 'phoenix', 'san antonio', 'san diego', 'dallas', 'san jose', 'austin']\n"
     ]
    }
   ],
   "source": [
    "states = [\"New York\", \"Los Angeles\", \"Chicago\", \"Houston\", \"Phoenix\", \"San Antonio\", \"San Diego\", \"Dallas\", \n",
    "          \"San Jose\", \"Austin\"]\n",
    "\n",
    "states_lower = []\n",
    "for state in states:\n",
    "    states_lower.append(state.lower())\n",
    "print(states_lower)  "
   ]
  },
  {
   "cell_type": "code",
   "execution_count": 10,
   "id": "0e8ccb19",
   "metadata": {},
   "outputs": [
    {
     "name": "stdout",
     "output_type": "stream",
     "text": [
      "Please enter your state name: chicago\n",
      "Including tax 1.21 dollar, you will have to pay 13.21 dollar.\n"
     ]
    }
   ],
   "source": [
    "user_state = input(\"Please enter your state name: \").lower()\n",
    "ticket_price = 12\n",
    "tax_states = 1.21\n",
    "tax_others = 0.39\n",
    "final_price = 0\n",
    "\n",
    "if user_state in states_lower:\n",
    "    final_price = ticket_price + tax_states\n",
    "    print(f\"Including tax {tax_states} dollar, you will have to pay {final_price} dollar.\")\n",
    "else:\n",
    "    final_price = ticket_price + 0.39\n",
    "    print(f\"Including tax {tax_others} dollar, you will have to pay {final_price} dollar.\")"
   ]
  },
  {
   "cell_type": "markdown",
   "id": "4d36bd1a",
   "metadata": {},
   "source": [
    "### Remove numbers greater than 65 from a list while iterating\n",
    "\n",
    "Write a program to remove numbers greater than 65 out of 30 randomly generated numbers between 18 and 82 from a list while iterating."
   ]
  },
  {
   "cell_type": "code",
   "execution_count": 12,
   "id": "56d80c76",
   "metadata": {},
   "outputs": [
    {
     "name": "stdout",
     "output_type": "stream",
     "text": [
      "[34, 47, 69, 25, 77, 40, 74, 21, 59, 77, 72, 54, 74, 41, 75, 22, 58, 46, 59, 20, 68, 59, 60, 61, 50, 22, 45, 48, 65, 18]\n",
      "30\n"
     ]
    }
   ],
   "source": [
    "import random\n",
    "\n",
    "nums = []\n",
    "for i in range(30):\n",
    "    num = random.randint(18,82)\n",
    "    nums.append(num)\n",
    "    \n",
    "print(nums)\n",
    "print(len(nums))"
   ]
  },
  {
   "cell_type": "code",
   "execution_count": 13,
   "id": "c5a8c814",
   "metadata": {},
   "outputs": [
    {
     "name": "stdout",
     "output_type": "stream",
     "text": [
      "[34, 47, 25, 40, 21, 59, 72, 54, 41, 22, 58, 46, 59, 20, 59, 60, 61, 50, 22, 45, 48, 65, 18]\n",
      "23\n"
     ]
    }
   ],
   "source": [
    "for num in nums:\n",
    "    if num > 65:\n",
    "        nums.remove(num)\n",
    "        \n",
    "print(nums)\n",
    "print(len(nums))"
   ]
  },
  {
   "cell_type": "code",
   "execution_count": null,
   "id": "ad852588",
   "metadata": {},
   "outputs": [],
   "source": []
  }
 ],
 "metadata": {
  "kernelspec": {
   "display_name": "Python 3",
   "language": "python",
   "name": "python3"
  },
  "language_info": {
   "codemirror_mode": {
    "name": "ipython",
    "version": 3
   },
   "file_extension": ".py",
   "mimetype": "text/x-python",
   "name": "python",
   "nbconvert_exporter": "python",
   "pygments_lexer": "ipython3",
   "version": "3.8.8"
  }
 },
 "nbformat": 4,
 "nbformat_minor": 5
}
