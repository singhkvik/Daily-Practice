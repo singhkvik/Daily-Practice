{
 "cells": [
  {
   "cell_type": "markdown",
   "id": "02b72346",
   "metadata": {},
   "source": [
    "### Display the sum of the square root from a randomly generated list of 20 numbers between 100 to 250."
   ]
  },
  {
   "cell_type": "code",
   "execution_count": 1,
   "id": "db859dca",
   "metadata": {},
   "outputs": [],
   "source": [
    "import random\n",
    "import math"
   ]
  },
  {
   "cell_type": "code",
   "execution_count": 2,
   "id": "191bf271",
   "metadata": {},
   "outputs": [
    {
     "name": "stdout",
     "output_type": "stream",
     "text": [
      "[141, 143, 231, 195, 162, 199, 112, 100, 110, 187, 189, 164, 243, 119, 141, 213, 163, 237, 240, 157]\n"
     ]
    }
   ],
   "source": [
    "numbers = []\n",
    "\n",
    "for num in range(20):\n",
    "    numbers.append(random.randint(100,250))\n",
    "\n",
    "print(numbers)"
   ]
  },
  {
   "cell_type": "code",
   "execution_count": 6,
   "id": "3f861b5e",
   "metadata": {},
   "outputs": [
    {
     "name": "stdout",
     "output_type": "stream",
     "text": [
      "Square root of random numbers between 100 to 250 are:\n",
      "[11.87, 11.96, 15.2, 13.96, 12.73, 14.11, 10.58, 10.0, 10.49, 13.67, 13.75, 12.81, 15.59, 10.91, 11.87, 14.59, 12.77, 15.39, 15.49, 12.53]\n",
      "\n",
      "\n",
      "Total sum of square roots are: 260.27\n"
     ]
    }
   ],
   "source": [
    "num_sqrt = []\n",
    "\n",
    "for num in numbers:\n",
    "    num_sqrt.append(round(math.sqrt(num), 2))\n",
    "\n",
    "sum_sqrt = round(sum(num_sqrt), 2)\n",
    "\n",
    "print(\"Square root of random numbers between 100 to 250 are:\")\n",
    "print(num_sqrt)\n",
    "print('\\n')\n",
    "print(f\"Total sum of square roots are: {sum_sqrt}\")\n",
    "      "
   ]
  },
  {
   "cell_type": "code",
   "execution_count": null,
   "id": "41185a44",
   "metadata": {},
   "outputs": [],
   "source": []
  }
 ],
 "metadata": {
  "kernelspec": {
   "display_name": "Python 3",
   "language": "python",
   "name": "python3"
  },
  "language_info": {
   "codemirror_mode": {
    "name": "ipython",
    "version": 3
   },
   "file_extension": ".py",
   "mimetype": "text/x-python",
   "name": "python",
   "nbconvert_exporter": "python",
   "pygments_lexer": "ipython3",
   "version": "3.8.8"
  }
 },
 "nbformat": 4,
 "nbformat_minor": 5
}
