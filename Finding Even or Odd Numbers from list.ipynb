{
 "cells": [
  {
   "cell_type": "markdown",
   "id": "0ead9bac",
   "metadata": {},
   "source": [
    "#### Write a program that will print the 10 randomly generated numbers from 1 digit to 3 digits. Also, print which number is even and which is odd."
   ]
  },
  {
   "cell_type": "code",
   "execution_count": 1,
   "id": "ca970d13",
   "metadata": {},
   "outputs": [],
   "source": [
    "# Import required libraries\n",
    "\n",
    "import random"
   ]
  },
  {
   "cell_type": "code",
   "execution_count": 2,
   "id": "d1d987b3",
   "metadata": {},
   "outputs": [
    {
     "name": "stdout",
     "output_type": "stream",
     "text": [
      "[604, 205, 139, 369, 396, 549, 843, 977, 90, 631]\n"
     ]
    }
   ],
   "source": [
    "number_list = []\n",
    "\n",
    "for i in range(0,10):\n",
    "    number_list.append(random.randint(1,999))\n",
    "    \n",
    "print(number_list)"
   ]
  },
  {
   "cell_type": "code",
   "execution_count": 3,
   "id": "baa79ec2",
   "metadata": {},
   "outputs": [
    {
     "name": "stdout",
     "output_type": "stream",
     "text": [
      "604 is an even number\n",
      "205 is an odd number\n",
      "139 is an odd number\n",
      "369 is an odd number\n",
      "396 is an even number\n",
      "549 is an odd number\n",
      "843 is an odd number\n",
      "977 is an odd number\n",
      "90 is an even number\n",
      "631 is an odd number\n"
     ]
    }
   ],
   "source": [
    "for num in number_list:\n",
    "    if num % 2 == 0:\n",
    "        print(f\"{num} is an even number\")\n",
    "    else:\n",
    "        print(f\"{num} is an odd number\")"
   ]
  },
  {
   "cell_type": "code",
   "execution_count": null,
   "id": "79cc9f3f",
   "metadata": {},
   "outputs": [],
   "source": []
  }
 ],
 "metadata": {
  "kernelspec": {
   "display_name": "Python 3",
   "language": "python",
   "name": "python3"
  },
  "language_info": {
   "codemirror_mode": {
    "name": "ipython",
    "version": 3
   },
   "file_extension": ".py",
   "mimetype": "text/x-python",
   "name": "python",
   "nbconvert_exporter": "python",
   "pygments_lexer": "ipython3",
   "version": "3.8.8"
  }
 },
 "nbformat": 4,
 "nbformat_minor": 5
}
