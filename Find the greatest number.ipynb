{
 "cells": [
  {
   "cell_type": "markdown",
   "id": "8a8ed3a4",
   "metadata": {},
   "source": [
    "### You have three number, (a = 1000, b = 240, c = 40), you may assume another number. Now, write a program to find which is greatest number."
   ]
  },
  {
   "cell_type": "code",
   "execution_count": 1,
   "id": "5f5e3ca4",
   "metadata": {},
   "outputs": [
    {
     "name": "stdout",
     "output_type": "stream",
     "text": [
      "\"a\" having value 1000 is the greatest number.\n"
     ]
    }
   ],
   "source": [
    "a = 1000\n",
    "b = 240\n",
    "c = 40\n"
   ]
  },
  {
   "cell_type": "code",
   "execution_count": 2,
   "id": "4894b165",
   "metadata": {},
   "outputs": [
    {
     "name": "stdout",
     "output_type": "stream",
     "text": [
      "\"a\" having value 1000 is the greatest number.\n"
     ]
    }
   ],
   "source": [
    "if a>b and a>c:\n",
    "    print(f'\"a\" having value {a} is the greatest number.')\n",
    "elif b>a and b>c:\n",
    "    print(f'\"b\" having value {b} is the greatest number.')\n",
    "elif c>a and c>b:\n",
    "    print(f'\"c\" having value {c} is the greatest number.')"
   ]
  },
  {
   "cell_type": "code",
   "execution_count": null,
   "id": "c62c1eae",
   "metadata": {},
   "outputs": [],
   "source": []
  }
 ],
 "metadata": {
  "kernelspec": {
   "display_name": "Python 3",
   "language": "python",
   "name": "python3"
  },
  "language_info": {
   "codemirror_mode": {
    "name": "ipython",
    "version": 3
   },
   "file_extension": ".py",
   "mimetype": "text/x-python",
   "name": "python",
   "nbconvert_exporter": "python",
   "pygments_lexer": "ipython3",
   "version": "3.8.8"
  }
 },
 "nbformat": 4,
 "nbformat_minor": 5
}
