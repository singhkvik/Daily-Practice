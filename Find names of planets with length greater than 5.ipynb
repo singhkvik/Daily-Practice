{
 "cells": [
  {
   "cell_type": "markdown",
   "id": "f7afbb29",
   "metadata": {},
   "source": [
    "### You have a list of the names of all the planets in your solar system. Write a program that will print planet names with a length greater than 5."
   ]
  },
  {
   "cell_type": "code",
   "execution_count": 1,
   "id": "46e6ca27",
   "metadata": {},
   "outputs": [],
   "source": [
    "planets = [\"Mercury\", \"Venus\", \"Earth\", \"Mars\", \"Jupiter\", \"Saturn\", \"Uranus\", \"Neptune\"]"
   ]
  },
  {
   "cell_type": "code",
   "execution_count": null,
   "id": "0c40fc40",
   "metadata": {},
   "outputs": [],
   "source": [
    "for planet in plant"
   ]
  }
 ],
 "metadata": {
  "kernelspec": {
   "display_name": "Python 3",
   "language": "python",
   "name": "python3"
  },
  "language_info": {
   "codemirror_mode": {
    "name": "ipython",
    "version": 3
   },
   "file_extension": ".py",
   "mimetype": "text/x-python",
   "name": "python",
   "nbconvert_exporter": "python",
   "pygments_lexer": "ipython3",
   "version": "3.8.8"
  }
 },
 "nbformat": 4,
 "nbformat_minor": 5
}
